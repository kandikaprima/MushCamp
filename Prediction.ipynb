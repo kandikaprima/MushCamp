{
 "cells": [
  {
   "cell_type": "markdown",
   "metadata": {},
   "source": [
    "### Import Library"
   ]
  },
  {
   "cell_type": "code",
   "execution_count": null,
   "metadata": {},
   "outputs": [],
   "source": [
    "from keras.models import load_model\n",
    "import keras.utils as image\n",
    "import matplotlib.pyplot as plt\n",
    "import numpy as np\n",
    "import os"
   ]
  },
  {
   "cell_type": "markdown",
   "metadata": {},
   "source": [
    "### Import Model"
   ]
  },
  {
   "cell_type": "code",
   "execution_count": null,
   "metadata": {},
   "outputs": [],
   "source": [
    "# model_B0 = load_model('saved-models/model_EfficientNetB0.h5')\n",
    "# model_B1 = load_model('saved-models/model_EfficientNetB1.h5')\n",
    "# model_B2 = load_model('saved-models/model_EfficientNetB2.h5')\n",
    "# model_B3 = load_model('saved-models/model_EfficientNetB3.h5')\n",
    "# model_B4 = load_model('saved-models/model_EfficientNetB4.h5')\n",
    "# model_B5 = load_model('saved-models/model_EfficientNetB5.h5')\n",
    "# model_B6 = load_model('saved-models/model_EfficientNetB6.h5')\n",
    "model_B7 = load_model('saved-models/model_EfficientNetB7.h5')"
   ]
  },
  {
   "cell_type": "markdown",
   "metadata": {},
   "source": [
    "### Prediciton"
   ]
  },
  {
   "cell_type": "code",
   "execution_count": null,
   "metadata": {},
   "outputs": [],
   "source": [
    "trainPath = r'dataset\\dataSplit\\train'\n",
    "class_names = os.listdir(trainPath)\n",
    "print('All category : ',class_names)"
   ]
  },
  {
   "cell_type": "code",
   "execution_count": null,
   "metadata": {},
   "outputs": [],
   "source": [
    "img_path = \"\"\n",
    "\n",
    "img = image.load_img(img_path, target_size=(275,275))\n",
    "imgplot = plt.imshow(img)\n",
    "x = image.img_to_array(img)\n",
    "x = x/255.0\n",
    "x = np.expand_dims(x, axis=0)\n",
    "images = np.vstack([x])\n",
    "\n",
    "classes = model.predict(images, batch_size=10,verbose=0)\n",
    "print(f'Hasil Prediksi: {class_names[np.argmax(classes)]}')"
   ]
  }
 ],
 "metadata": {
  "language_info": {
   "name": "python"
  }
 },
 "nbformat": 4,
 "nbformat_minor": 2
}

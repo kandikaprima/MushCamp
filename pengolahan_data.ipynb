{
 "cells": [
  {
   "cell_type": "markdown",
   "metadata": {},
   "source": [
    "# Pengolahan Data"
   ]
  },
  {
   "cell_type": "markdown",
   "metadata": {},
   "source": [
    "### Library"
   ]
  },
  {
   "cell_type": "code",
   "execution_count": 1,
   "metadata": {},
   "outputs": [],
   "source": [
    "import os\n",
    "import splitfolders"
   ]
  },
  {
   "cell_type": "markdown",
   "metadata": {},
   "source": [
    "### Mengecek Data Awal"
   ]
  },
  {
   "cell_type": "code",
   "execution_count": 1,
   "metadata": {},
   "outputs": [
    {
     "name": "stdout",
     "output_type": "stream",
     "text": [
      "Jumlah data pada dataset\\Mushrooms\\Agaricus: 311\n",
      "Jumlah data pada dataset\\Mushrooms\\Amanita: 311\n",
      "Jumlah data pada dataset\\Mushrooms\\Boletus: 311\n",
      "Jumlah data pada dataset\\Mushrooms\\Cortinarius: 311\n",
      "Jumlah data pada dataset\\Mushrooms\\Entoloma: 311\n",
      "Jumlah data pada dataset\\Mushrooms\\Hygrocybe: 311\n",
      "Jumlah data pada dataset\\Mushrooms\\Lactarius: 311\n",
      "Jumlah data pada dataset\\Mushrooms\\Russula: 311\n",
      "Jumlah data pada dataset\\Mushrooms\\Suillus: 311\n"
     ]
    }
   ],
   "source": [
    "folders = []\n",
    "\n",
    "for file in os.listdir(\"dataset\\Mushrooms\"):\n",
    "    folders.append(f\"dataset\\Mushrooms\\{file}\")\n",
    "\n",
    "for folder in folders:\n",
    "    file_count = 0\n",
    "\n",
    "    for file in os.listdir(folder):\n",
    "        file_count += 1\n",
    "\n",
    "    print(f\"Jumlah data pada {folder}: {file_count}\")"
   ]
  },
  {
   "cell_type": "markdown",
   "metadata": {},
   "source": [
    "### Split Data"
   ]
  },
  {
   "cell_type": "code",
   "execution_count": 5,
   "metadata": {},
   "outputs": [],
   "source": [
    "splitfolders.ratio(\"dataset\\Mushrooms\", output=\"dataset\\dataSplit\",\n",
    "    seed=1337, ratio=(.8, .1, .1), group_prefix=None, move=False)"
   ]
  },
  {
   "cell_type": "markdown",
   "metadata": {},
   "source": [
    "##### Mengecek Hasil Split"
   ]
  },
  {
   "cell_type": "code",
   "execution_count": 5,
   "metadata": {},
   "outputs": [
    {
     "name": "stdout",
     "output_type": "stream",
     "text": [
      "Jumlah data pada dataset\\dataSplit\\test\\Agaricus: 32\n",
      "Jumlah data pada dataset\\dataSplit\\test\\Amanita: 32\n",
      "Jumlah data pada dataset\\dataSplit\\test\\Boletus: 32\n",
      "Jumlah data pada dataset\\dataSplit\\test\\Cortinarius: 32\n",
      "Jumlah data pada dataset\\dataSplit\\test\\Entoloma: 32\n",
      "Jumlah data pada dataset\\dataSplit\\test\\Hygrocybe: 32\n",
      "Jumlah data pada dataset\\dataSplit\\test\\Lactarius: 32\n",
      "Jumlah data pada dataset\\dataSplit\\test\\Russula: 32\n",
      "Jumlah data pada dataset\\dataSplit\\test\\Suillus: 32\n",
      "Jumlah data pada dataset\\dataSplit\\train\\Agaricus: 248\n",
      "Jumlah data pada dataset\\dataSplit\\train\\Amanita: 248\n",
      "Jumlah data pada dataset\\dataSplit\\train\\Boletus: 248\n",
      "Jumlah data pada dataset\\dataSplit\\train\\Cortinarius: 248\n",
      "Jumlah data pada dataset\\dataSplit\\train\\Entoloma: 248\n",
      "Jumlah data pada dataset\\dataSplit\\train\\Hygrocybe: 248\n",
      "Jumlah data pada dataset\\dataSplit\\train\\Lactarius: 248\n",
      "Jumlah data pada dataset\\dataSplit\\train\\Russula: 248\n",
      "Jumlah data pada dataset\\dataSplit\\train\\Suillus: 248\n",
      "Jumlah data pada dataset\\dataSplit\\val\\Agaricus: 31\n",
      "Jumlah data pada dataset\\dataSplit\\val\\Amanita: 31\n",
      "Jumlah data pada dataset\\dataSplit\\val\\Boletus: 31\n",
      "Jumlah data pada dataset\\dataSplit\\val\\Cortinarius: 31\n",
      "Jumlah data pada dataset\\dataSplit\\val\\Entoloma: 31\n",
      "Jumlah data pada dataset\\dataSplit\\val\\Hygrocybe: 31\n",
      "Jumlah data pada dataset\\dataSplit\\val\\Lactarius: 31\n",
      "Jumlah data pada dataset\\dataSplit\\val\\Russula: 31\n",
      "Jumlah data pada dataset\\dataSplit\\val\\Suillus: 31\n"
     ]
    }
   ],
   "source": [
    "split_folders = []\n",
    "\n",
    "for file in os.listdir(\"dataset\\dataSplit\"):\n",
    "  for files in os.listdir(f\"dataset\\dataSplit\\{file}\"):\n",
    "    split_folders.append(f\"dataset\\dataSplit\\{file}\\{files}\")\n",
    "\n",
    "for folder in split_folders:\n",
    "    file_count = 0\n",
    "\n",
    "    for filesss in os.listdir(folder):\n",
    "        file_count += 1\n",
    "\n",
    "    print(f\"Jumlah data pada {folder}: {file_count}\")\n"
   ]
  }
 ],
 "metadata": {
  "kernelspec": {
   "display_name": "Python 3",
   "language": "python",
   "name": "python3"
  },
  "language_info": {
   "codemirror_mode": {
    "name": "ipython",
    "version": 3
   },
   "file_extension": ".py",
   "mimetype": "text/x-python",
   "name": "python",
   "nbconvert_exporter": "python",
   "pygments_lexer": "ipython3",
   "version": "3.10.0"
  }
 },
 "nbformat": 4,
 "nbformat_minor": 2
}
